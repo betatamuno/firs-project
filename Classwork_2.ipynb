{
 "cells": [
  {
   "cell_type": "code",
   "execution_count": null,
   "id": "60d2e1bb",
   "metadata": {},
   "outputs": [
    {
     "name": "stdout",
     "output_type": "stream",
     "text": [
      "Too low, try again!\n",
      "Too low, try again!\n",
      "Too low, try again!\n",
      "Too high, try again!\n",
      "Too high, try again!\n",
      "Too high, try again!\n",
      "Invalid input. Please enter a number.\n"
     ]
    }
   ],
   "source": [
    "import random\n",
    "input(\"Press Enter to start the game\")\n",
    "## The game begins\n",
    "number = random.randint(1, 50)\n",
    "#  The random module is used to generate random numbers\n",
    "while True:\n",
    "   guess_input = input(\"Guess a number between 1 and 50: \")\n",
    "   if not guess_input.isdigit():\n",
    "#  To ensure the user enters a valid digit\n",
    "       print(\"Invalid input. Please enter a number.\")\n",
    "       continue\n",
    "   guess = int(guess_input)\n",
    "   if guess == number:\n",
    "       print(\"You guessed it right!\")\n",
    "       break\n",
    "##  If the user guesses the right number, the code breaks\n",
    "   elif guess < number:\n",
    "       print(\"Too low, try again!\")\n",
    "   else:\n",
    "       print(\"Too high, try again!\")\n",
    "print(f\"The number was {number}\")\n",
    "## Prints the number for the user \n"
   ]
  }
 ],
 "metadata": {
  "kernelspec": {
   "display_name": "Python 3",
   "language": "python",
   "name": "python3"
  },
  "language_info": {
   "codemirror_mode": {
    "name": "ipython",
    "version": 3
   },
   "file_extension": ".py",
   "mimetype": "text/x-python",
   "name": "python",
   "nbconvert_exporter": "python",
   "pygments_lexer": "ipython3",
   "version": "3.12.4"
  }
 },
 "nbformat": 4,
 "nbformat_minor": 5
}
