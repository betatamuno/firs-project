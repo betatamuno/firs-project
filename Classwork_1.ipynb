{
 "cells": [
  {
   "cell_type": "code",
   "execution_count": null,
   "id": "af28f85b",
   "metadata": {},
   "outputs": [],
   "source": [
    "## Stimulating rolling a dice\n",
    "import random\n",
    "input(\"Press enter to roll the dice\")\n",
    "dice = random.randint(1, 6)\n",
    "## The random module is used to generate random numbers\n",
    "print(\"You rolled a \" + str(dice))\n",
    "## Concatenate the string with the number\n",
    "## The str() function is used to convert the number to a string\n",
    "answer = input(\"Do you want to roll again? Yes or No: \")\n",
    "## Ask the user if they want to roll again\n",
    "while answer.lower() == \"yes\":\n",
    "  dice = random.randint(1, 6)\n",
    "  print(\"You rolled a \" + str(dice))\n",
    "  answer = input(\"Do you want to roll again? Yes or No: \")\n",
    "## Loop until the user enters \"no\"\n",
    "print(\"Thank you for playing!\")\n"
   ]
  }
 ],
 "metadata": {
  "language_info": {
   "name": "python"
  }
 },
 "nbformat": 4,
 "nbformat_minor": 5
}
