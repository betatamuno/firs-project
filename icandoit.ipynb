{
 "cells": [
  {
   "cell_type": "code",
   "execution_count": 1,
   "id": "81928415",
   "metadata": {},
   "outputs": [
    {
     "name": "stdout",
     "output_type": "stream",
     "text": [
      "Hello world\n"
     ]
    }
   ],
   "source": [
    "print(\"Hello world\")"
   ]
  },
  {
   "cell_type": "code",
   "execution_count": 2,
   "id": "f18e9275",
   "metadata": {},
   "outputs": [
    {
     "name": "stdout",
     "output_type": "stream",
     "text": [
      "it is a good day\n"
     ]
    }
   ],
   "source": [
    "print (\"it is a good day\")"
   ]
  },
  {
   "cell_type": "code",
   "execution_count": 3,
   "id": "8afa64ae",
   "metadata": {},
   "outputs": [
    {
     "name": "stdout",
     "output_type": "stream",
     "text": [
      "20 is good\n"
     ]
    }
   ],
   "source": [
    "print(\"20 is good\")"
   ]
  },
  {
   "cell_type": "code",
   "execution_count": null,
   "id": "1f41e50b",
   "metadata": {},
   "outputs": [],
   "source": [
    "## float   ---3.142, 2.464, -2.45\n",
    "## boolean -- true, false"
   ]
  },
  {
   "cell_type": "code",
   "execution_count": 4,
   "id": "47d30688",
   "metadata": {},
   "outputs": [
    {
     "data": {
      "text/plain": [
       "20"
      ]
     },
     "execution_count": 4,
     "metadata": {},
     "output_type": "execute_result"
    }
   ],
   "source": [
    "10+10"
   ]
  },
  {
   "cell_type": "code",
   "execution_count": 6,
   "id": "4c6c111f",
   "metadata": {},
   "outputs": [
    {
     "name": "stdout",
     "output_type": "stream",
     "text": [
      "30\n"
     ]
    }
   ],
   "source": [
    "a=10\n",
    "b=10\n",
    "c=10\n",
    "print(a+b+c)"
   ]
  },
  {
   "cell_type": "code",
   "execution_count": 9,
   "id": "5161ea40",
   "metadata": {},
   "outputs": [
    {
     "name": "stdout",
     "output_type": "stream",
     "text": [
      "50\n"
     ]
    }
   ],
   "source": [
    "## variable\n",
    "number=20\n",
    "value1=20\n",
    "value2=30\n",
    "total=value1+value2\n",
    "print(total)"
   ]
  },
  {
   "cell_type": "code",
   "execution_count": 10,
   "id": "0b3e16ba",
   "metadata": {},
   "outputs": [
    {
     "name": "stdout",
     "output_type": "stream",
     "text": [
      "1020\n"
     ]
    }
   ],
   "source": [
    "## input function\n",
    "number1=input(\"Give me a number\")\n",
    "number2=input(\"Give me another number\")\n",
    "total=number1+number2\n",
    "print(total)\n"
   ]
  },
  {
   "cell_type": "code",
   "execution_count": null,
   "id": "b9538ae0",
   "metadata": {},
   "outputs": [
    {
     "name": "stdout",
     "output_type": "stream",
     "text": [
      "50\n"
     ]
    }
   ],
   "source": [
    "## casting\n",
    "number1 = float(input(\"Enter number\"))\n",
    "number2 = float (input(\"Enter another number\"))\n",
    "total = number1 + number2\n",
    "print(total)\n"
   ]
  },
  {
   "cell_type": "code",
   "execution_count": 14,
   "id": "75b5ffaa",
   "metadata": {},
   "outputs": [
    {
     "name": "stdout",
     "output_type": "stream",
     "text": [
      "74\n"
     ]
    }
   ],
   "source": [
    "number1 = float (input(\"Enter number\"))\n",
    "number2 = float (input(\"Enter another number\"))\n",
    "total =int(number1) + int(number2)\n",
    "print (total)"
   ]
  },
  {
   "cell_type": "code",
   "execution_count": 16,
   "id": "953913f5",
   "metadata": {},
   "outputs": [
    {
     "name": "stdout",
     "output_type": "stream",
     "text": [
      "12\n"
     ]
    }
   ],
   "source": [
    "number1=int (input(\"Enter number\"))\n",
    "number2 =int (input(\"Enter another \"))\n",
    "number3 = int (input(\"Enter another number\"))\n",
    "total =int (number1) + int(number2) + int(number3)\n",
    "print (total)"
   ]
  },
  {
   "cell_type": "code",
   "execution_count": 17,
   "id": "c9a6ecaa",
   "metadata": {},
   "outputs": [
    {
     "name": "stdout",
     "output_type": "stream",
     "text": [
      "3.0\n"
     ]
    }
   ],
   "source": [
    "## modulos\n",
    "number1=int (input(\"Enter number\"))\n",
    "number2 =int (input(\"Enter another \"))\n",
    "number3 = int (input(\"Enter another number\"))\n",
    "total =int (number1) + int(number2) + int(number3)\n",
    "print (total/3)"
   ]
  },
  {
   "cell_type": "code",
   "execution_count": 21,
   "id": "72f6f41f",
   "metadata": {},
   "outputs": [
    {
     "name": "stdout",
     "output_type": "stream",
     "text": [
      "6.333333333333333\n",
      "6.333333333333333\n"
     ]
    }
   ],
   "source": [
    "number1=int (input(\"Enter number\"))\n",
    "number2 =int (input(\"Enter another \"))\n",
    "number3 = int (input(\"Enter another number\"))\n",
    "total =int (number1) + int(number2) + int(number3)\n",
    "print (total/3)\n",
    "## the average\n",
    "ave = total/3\n",
    "print (ave)\n"
   ]
  },
  {
   "cell_type": "code",
   "execution_count": 23,
   "id": "dd8ad88f",
   "metadata": {},
   "outputs": [
    {
     "data": {
      "text/plain": [
       "1"
      ]
     },
     "execution_count": 23,
     "metadata": {},
     "output_type": "execute_result"
    }
   ],
   "source": [
    "## modulos\n",
    "17%2"
   ]
  },
  {
   "cell_type": "code",
   "execution_count": 29,
   "id": "6f06930e",
   "metadata": {},
   "outputs": [
    {
     "name": "stdout",
     "output_type": "stream",
     "text": [
      "0\n",
      "1\n",
      "2\n",
      "3\n",
      "4\n",
      "5\n",
      "6\n",
      "7\n",
      "8\n",
      "9\n"
     ]
    }
   ],
   "source": [
    "## 0,1,2,3,4,5,6,7,8,9\n",
    "## for loop\n",
    "for counter in range (10):\n",
    "    print(counter)"
   ]
  },
  {
   "cell_type": "code",
   "execution_count": 39,
   "id": "9603eb5b",
   "metadata": {},
   "outputs": [
    {
     "name": "stdout",
     "output_type": "stream",
     "text": [
      "Kingsley\n",
      "Kingsley\n",
      "Kingsley\n",
      "Kingsley\n",
      "Kingsley\n",
      "Kingsley\n",
      "Kingsley\n",
      "Kingsley\n",
      "Kingsley\n",
      "Kingsley\n",
      "Kingsley\n",
      "Kingsley\n",
      "Kingsley\n",
      "Kingsley\n",
      "Kingsley\n",
      "Kingsley\n",
      "Kingsley\n",
      "Kingsley\n",
      "Kingsley\n",
      "Kingsley\n"
     ]
    }
   ],
   "source": [
    "## creating and printing 20 times\n",
    "my_name = \"Kingsley\"\n",
    "## print the name 20 times\n",
    "for name in range(20):\n",
    "    print(my_name)"
   ]
  },
  {
   "cell_type": "code",
   "execution_count": 44,
   "id": "0647ae6d",
   "metadata": {},
   "outputs": [
    {
     "name": "stdout",
     "output_type": "stream",
     "text": [
      "1\n",
      "7\n"
     ]
    }
   ],
   "source": [
    "for i in range (1,11,6):\n",
    "    print(i)"
   ]
  },
  {
   "cell_type": "code",
   "execution_count": null,
   "id": "d82a55c4",
   "metadata": {},
   "outputs": [
    {
     "ename": "KeyboardInterrupt",
     "evalue": "Interrupted by user",
     "output_type": "error",
     "traceback": [
      "\u001b[31m---------------------------------------------------------------------------\u001b[39m",
      "\u001b[31mKeyboardInterrupt\u001b[39m                         Traceback (most recent call last)",
      "\u001b[36mCell\u001b[39m\u001b[36m \u001b[39m\u001b[32mIn[49]\u001b[39m\u001b[32m, line 1\u001b[39m\n\u001b[32m----> \u001b[39m\u001b[32m1\u001b[39m Thankful=\u001b[38;5;28;43minput\u001b[39;49m\u001b[43m(\u001b[49m\u001b[43m \u001b[49m\u001b[33;43m\"\u001b[39;49m\u001b[33;43mEnter number\u001b[39;49m\u001b[33;43m\"\u001b[39;49m\u001b[43m)\u001b[49m\n\u001b[32m      2\u001b[39m number =\u001b[38;5;28mint\u001b[39m(\u001b[38;5;28minput\u001b[39m(\u001b[33m\"\u001b[39m\u001b[33mEnter number\u001b[39m\u001b[33m\"\u001b[39m))\n\u001b[32m      3\u001b[39m total=\u001b[38;5;28mint\u001b[39m(number)\n",
      "\u001b[36mFile \u001b[39m\u001b[32m~\\AppData\\Roaming\\Python\\Python312\\site-packages\\ipykernel\\kernelbase.py:1282\u001b[39m, in \u001b[36mKernel.raw_input\u001b[39m\u001b[34m(self, prompt)\u001b[39m\n\u001b[32m   1280\u001b[39m     msg = \u001b[33m\"\u001b[39m\u001b[33mraw_input was called, but this frontend does not support input requests.\u001b[39m\u001b[33m\"\u001b[39m\n\u001b[32m   1281\u001b[39m     \u001b[38;5;28;01mraise\u001b[39;00m StdinNotImplementedError(msg)\n\u001b[32m-> \u001b[39m\u001b[32m1282\u001b[39m \u001b[38;5;28;01mreturn\u001b[39;00m \u001b[38;5;28;43mself\u001b[39;49m\u001b[43m.\u001b[49m\u001b[43m_input_request\u001b[49m\u001b[43m(\u001b[49m\n\u001b[32m   1283\u001b[39m \u001b[43m    \u001b[49m\u001b[38;5;28;43mstr\u001b[39;49m\u001b[43m(\u001b[49m\u001b[43mprompt\u001b[49m\u001b[43m)\u001b[49m\u001b[43m,\u001b[49m\n\u001b[32m   1284\u001b[39m \u001b[43m    \u001b[49m\u001b[38;5;28;43mself\u001b[39;49m\u001b[43m.\u001b[49m\u001b[43m_parent_ident\u001b[49m\u001b[43m[\u001b[49m\u001b[33;43m\"\u001b[39;49m\u001b[33;43mshell\u001b[39;49m\u001b[33;43m\"\u001b[39;49m\u001b[43m]\u001b[49m\u001b[43m,\u001b[49m\n\u001b[32m   1285\u001b[39m \u001b[43m    \u001b[49m\u001b[38;5;28;43mself\u001b[39;49m\u001b[43m.\u001b[49m\u001b[43mget_parent\u001b[49m\u001b[43m(\u001b[49m\u001b[33;43m\"\u001b[39;49m\u001b[33;43mshell\u001b[39;49m\u001b[33;43m\"\u001b[39;49m\u001b[43m)\u001b[49m\u001b[43m,\u001b[49m\n\u001b[32m   1286\u001b[39m \u001b[43m    \u001b[49m\u001b[43mpassword\u001b[49m\u001b[43m=\u001b[49m\u001b[38;5;28;43;01mFalse\u001b[39;49;00m\u001b[43m,\u001b[49m\n\u001b[32m   1287\u001b[39m \u001b[43m\u001b[49m\u001b[43m)\u001b[49m\n",
      "\u001b[36mFile \u001b[39m\u001b[32m~\\AppData\\Roaming\\Python\\Python312\\site-packages\\ipykernel\\kernelbase.py:1325\u001b[39m, in \u001b[36mKernel._input_request\u001b[39m\u001b[34m(self, prompt, ident, parent, password)\u001b[39m\n\u001b[32m   1322\u001b[39m \u001b[38;5;28;01mexcept\u001b[39;00m \u001b[38;5;167;01mKeyboardInterrupt\u001b[39;00m:\n\u001b[32m   1323\u001b[39m     \u001b[38;5;66;03m# re-raise KeyboardInterrupt, to truncate traceback\u001b[39;00m\n\u001b[32m   1324\u001b[39m     msg = \u001b[33m\"\u001b[39m\u001b[33mInterrupted by user\u001b[39m\u001b[33m\"\u001b[39m\n\u001b[32m-> \u001b[39m\u001b[32m1325\u001b[39m     \u001b[38;5;28;01mraise\u001b[39;00m \u001b[38;5;167;01mKeyboardInterrupt\u001b[39;00m(msg) \u001b[38;5;28;01mfrom\u001b[39;00m\u001b[38;5;250m \u001b[39m\u001b[38;5;28;01mNone\u001b[39;00m\n\u001b[32m   1326\u001b[39m \u001b[38;5;28;01mexcept\u001b[39;00m \u001b[38;5;167;01mException\u001b[39;00m:\n\u001b[32m   1327\u001b[39m     \u001b[38;5;28mself\u001b[39m.log.warning(\u001b[33m\"\u001b[39m\u001b[33mInvalid Message:\u001b[39m\u001b[33m\"\u001b[39m, exc_info=\u001b[38;5;28;01mTrue\u001b[39;00m)\n",
      "\u001b[31mKeyboardInterrupt\u001b[39m: Interrupted by user"
     ]
    }
   ],
   "source": [
    "text=input( \"whats my sex\")\n",
    "number_times =int(input(\"How many times do i want to print this text\"))\n",
    "for i in range (10):\n",
    "    print(i)"
   ]
  }
 ],
 "metadata": {
  "kernelspec": {
   "display_name": "Python 3",
   "language": "python",
   "name": "python3"
  },
  "language_info": {
   "codemirror_mode": {
    "name": "ipython",
    "version": 3
   },
   "file_extension": ".py",
   "mimetype": "text/x-python",
   "name": "python",
   "nbconvert_exporter": "python",
   "pygments_lexer": "ipython3",
   "version": "3.12.4"
  }
 },
 "nbformat": 4,
 "nbformat_minor": 5
}
