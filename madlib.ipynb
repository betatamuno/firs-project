{
 "cells": [
  {
   "cell_type": "code",
   "execution_count": null,
   "id": "1b03d996",
   "metadata": {},
   "outputs": [
    {
     "name": "stdout",
     "output_type": "stream",
     "text": [
      "Welcome to the Madlibs game!!!\n",
      "One day there was one noun who was travel on one of the projects of data science. It was a ask day when\n",
      "decided to go to his dream place nigeria and live there happily ever after.\n",
      "This is your madlib generated story! I hope you had fun playing the game!\n",
      "\n",
      "One day there was kingsley who was runing on one of the projects of data science. It was a happytall day when\n",
      "decided to go to his dream place ghana and live there happily ever after.\n",
      "This is your madlib generated story! I hope you had fun playing the game!\n",
      "\n"
     ]
    }
   ],
   "source": [
    "print(\"Welcome to the Madlibs game!!!\")\n",
    "while True:\n",
    "    list1 =[]\n",
    "    user_ask = input(\"Do you want to play this game? type yes or no\").lower()\n",
    "    question=[\"noun\", \"adjective\", \"verb\", \"place name\"]\n",
    "    if user_ask == \"yes\":\n",
    "        for words in question:\n",
    "            ask = input(f\"Type one {words}\")\n",
    "            list1.append(ask)\n",
    "        print(f\"\"\"One day there was {list1[0]} who was {list1[2]} on one of the projects of data science. It was a {list1[1]} day when\n",
    "decided to go to his dream place {list1[3]} and live there happily ever after.\n",
    "This is your madlib generated story! I hope you had fun playing the game!\n",
    "\"\"\")\n",
    "    elif user_ask == \"no\":\n",
    "        print(\"Thanks for yout time! Good bye!\")\n",
    "        break\n",
    "    else:\n",
    "        print(\"Please type either yes or no\")\n",
    "\n",
    "\n",
    "\n",
    "\n",
    "\n",
    "\n",
    "\n",
    "\n",
    "\n",
    "\n"
   ]
  }
 ],
 "metadata": {
  "kernelspec": {
   "display_name": "Python 3",
   "language": "python",
   "name": "python3"
  },
  "language_info": {
   "codemirror_mode": {
    "name": "ipython",
    "version": 3
   },
   "file_extension": ".py",
   "mimetype": "text/x-python",
   "name": "python",
   "nbconvert_exporter": "python",
   "pygments_lexer": "ipython3",
   "version": "3.12.4"
  }
 },
 "nbformat": 4,
 "nbformat_minor": 5
}
