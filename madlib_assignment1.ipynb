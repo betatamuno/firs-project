{
 "cells": [
  {
   "cell_type": "code",
   "execution_count": 12,
   "id": "b50d9487",
   "metadata": {},
   "outputs": [
    {
     "name": "stdout",
     "output_type": "stream",
     "text": [
      "Welcome to the Madlibs game!!!\n",
      "\n",
      "There was once a serious person called Alex who was a data scientist.\n",
      "He/She started to work on a project which was about programming. After finishing\n",
      "the project Alex decided to pack his/her bag and go on holiday to Japan.\n",
      "\n",
      "This is your madlib generated story! I hope you had fun playing the game!\n"
     ]
    }
   ],
   "source": [
    "print(\"Welcome to the Madlibs game!!!\\n\")\n",
    "while True:\n",
    "    list1 =[]\n",
    "    user_ask = input(\"Do you want to play this game? type yes or no\").lower()\n",
    "    question=[\"adjective\", \"verb (like work not working)\", \"noun (plural)\", \"noun\", \"country\", \"name\"]\n",
    "    if user_ask == \"yes\":\n",
    "        for words in question:\n",
    "            ask = input(f\"Type one {words}\").lower()\n",
    "            list1.append(ask)\n",
    "        print(f\"\"\"There was once a {list1[0]} person called {list1[5].capitalize()} who was a data scientist.\n",
    "He/She started to {list1[1]} on a project which was about {list1[2]}. After finishing\n",
    "the project {list1[5].capitalize()} decided to pack his/her {list1[3]} and go on holiday to {list1[4].capitalize()}.\\n\n",
    "This is your madlib generated story! I hope you had fun playing the game!\"\"\")\n",
    "        break\n",
    "    elif user_ask == \"no\":\n",
    "        print(\"Thanks for your time! Good bye!\")\n",
    "        break\n",
    "    else:\n",
    "        print(\"Please type either yes or no\")\n"
   ]
  }
 ],
 "metadata": {
  "kernelspec": {
   "display_name": "Python 3",
   "language": "python",
   "name": "python3"
  },
  "language_info": {
   "codemirror_mode": {
    "name": "ipython",
    "version": 3
   },
   "file_extension": ".py",
   "mimetype": "text/x-python",
   "name": "python",
   "nbconvert_exporter": "python",
   "pygments_lexer": "ipython3",
   "version": "3.12.4"
  }
 },
 "nbformat": 4,
 "nbformat_minor": 5
}
